{
 "cells": [
  {
   "cell_type": "code",
   "execution_count": 1,
   "metadata": {
    "collapsed": true
   },
   "outputs": [],
   "source": [
    "# From Exercise 1"
   ]
  },
  {
   "cell_type": "code",
   "execution_count": 2,
   "metadata": {
    "collapsed": true
   },
   "outputs": [],
   "source": [
    "# Scoop Class\n",
    "\n",
    "class Scoop(object):\n",
    "    def __init__(self, flavor):\n",
    "        self.flavor = flavor\n",
    "        \n",
    "s1 = Scoop(\"Chocolate\")\n",
    "s2 = Scoop(\"Vanilla\")\n",
    "s3 = Scoop(\"Coffee\")"
   ]
  },
  {
   "cell_type": "code",
   "execution_count": 3,
   "metadata": {},
   "outputs": [
    {
     "name": "stdout",
     "output_type": "stream",
     "text": [
      "Chocolate\n"
     ]
    }
   ],
   "source": [
    "print(s1.flavor)"
   ]
  },
  {
   "cell_type": "code",
   "execution_count": 4,
   "metadata": {},
   "outputs": [
    {
     "name": "stdout",
     "output_type": "stream",
     "text": [
      "Chocolate\n",
      "Vanilla\n",
      "Coffee\n"
     ]
    }
   ],
   "source": [
    "for one_scoop in [s1, s2, s3]:\n",
    "    print(f'{one_scoop.flavor}')"
   ]
  },
  {
   "cell_type": "code",
   "execution_count": 5,
   "metadata": {
    "collapsed": true
   },
   "outputs": [],
   "source": [
    "# Person Class\n",
    "\n",
    "class Person(object):\n",
    "    def __init__(self, name, email, ph_number):\n",
    "        self.name = name\n",
    "        self.email = email\n",
    "        self.ph_number = ph_number\n",
    "        \n",
    "p1 = Person(\"Suman\", \"suman@suman.com\", \"000-11111\")\n",
    "p2 = Person(\"Rashmi\", \"rashmi@suman.com\", \"000-22222\")\n",
    "p3 = Person(\"Reyaan\", \"reyaan@suman.com\", \"000-33333\")\n",
    "p4 = Person(\"Bimalendu(Daddy)\", \"bimalendu@suman.com\", \"000-44444\")\n",
    "p5 = Person(\"Mira(Mommy)\", \"mira@suman.com\", \"000-55555\")\n",
    "\n",
    "all_persons = [p1, p2, p3, p4, p5]"
   ]
  },
  {
   "cell_type": "code",
   "execution_count": 6,
   "metadata": {},
   "outputs": [
    {
     "name": "stdout",
     "output_type": "stream",
     "text": [
      "Suman, have an email which is suman@suman.com\n",
      "Rashmi, have an email which is rashmi@suman.com\n",
      "Reyaan, have an email which is reyaan@suman.com\n",
      "Bimalendu(Daddy), have an email which is bimalendu@suman.com\n",
      "Mira(Mommy), have an email which is mira@suman.com\n"
     ]
    }
   ],
   "source": [
    "for each_person in all_persons:\n",
    "    print(f\"{each_person.name}, have an email which is {each_person.email}\")"
   ]
  },
  {
   "cell_type": "code",
   "execution_count": 7,
   "metadata": {
    "collapsed": true
   },
   "outputs": [],
   "source": [
    "p2.email = \"reyaan_rocks@reyaan.com\""
   ]
  },
  {
   "cell_type": "code",
   "execution_count": 8,
   "metadata": {},
   "outputs": [
    {
     "name": "stdout",
     "output_type": "stream",
     "text": [
      "Suman, have an email which is suman@suman.com\n",
      "Rashmi, have an email which is reyaan_rocks@reyaan.com\n",
      "Reyaan, have an email which is reyaan@suman.com\n",
      "Bimalendu(Daddy), have an email which is bimalendu@suman.com\n",
      "Mira(Mommy), have an email which is mira@suman.com\n"
     ]
    }
   ],
   "source": [
    "for each_person in all_persons:\n",
    "    print(f\"{each_person.name}, have an email which is {each_person.email}\")"
   ]
  },
  {
   "cell_type": "code",
   "execution_count": 9,
   "metadata": {
    "collapsed": true
   },
   "outputs": [],
   "source": [
    "# Bank Account Class\n",
    "\n",
    "class BankAccount(object):\n",
    "    def __init__(self, transactions):\n",
    "        self.transactions = transactions"
   ]
  },
  {
   "cell_type": "code",
   "execution_count": 10,
   "metadata": {
    "collapsed": true
   },
   "outputs": [],
   "source": [
    "my_account = BankAccount([1000, 1000, -100, -200, 5000])"
   ]
  },
  {
   "cell_type": "code",
   "execution_count": 11,
   "metadata": {
    "collapsed": true
   },
   "outputs": [],
   "source": [
    "my_wifes_account = BankAccount([1000, 1000, 1000, 1000])"
   ]
  },
  {
   "cell_type": "code",
   "execution_count": 12,
   "metadata": {
    "collapsed": true
   },
   "outputs": [],
   "source": [
    "my_account2 = BankAccount([100, -50, 500, -250])"
   ]
  },
  {
   "cell_type": "code",
   "execution_count": 13,
   "metadata": {},
   "outputs": [
    {
     "name": "stdout",
     "output_type": "stream",
     "text": [
      "****************************************************************************************************\n",
      "Here are the transactions : [1000, 1000, -100, -200, 5000]\n",
      "Total no. of transactions is :  5\n",
      "The average transaction amount is :  1460.0\n",
      "Present balance in the account is :  6700\n",
      "****************************************************************************************************\n",
      "Here are the transactions : [1000, 1000, 1000, 1000]\n",
      "Total no. of transactions is :  4\n",
      "The average transaction amount is :  1000.0\n",
      "Present balance in the account is :  4000\n",
      "****************************************************************************************************\n",
      "Here are the transactions : [100, -50, 500, -250]\n",
      "Total no. of transactions is :  4\n",
      "The average transaction amount is :  225.0\n",
      "Present balance in the account is :  300\n"
     ]
    }
   ],
   "source": [
    "for account in my_account, my_wifes_account, my_account2:\n",
    "    print(\"*\"*100)\n",
    "    print(f\"Here are the transactions : {account.transactions}\")\n",
    "    print(f\"Total no. of transactions is : \", len(account.transactions))\n",
    "    avg = sum([abs(t) for t in account.transactions]) / len(account.transactions)\n",
    "    print(f\"The average transaction amount is : \", avg)\n",
    "    print(f\"Present balance in the account is : \", sum(account.transactions))\n"
   ]
  },
  {
   "cell_type": "markdown",
   "metadata": {
    "collapsed": true
   },
   "source": [
    "## Exercise 2"
   ]
  },
  {
   "cell_type": "markdown",
   "metadata": {},
   "source": [
    "### (1) Create a Bowl class.  We can put scoops in the bowl!"
   ]
  },
  {
   "cell_type": "code",
   "execution_count": 14,
   "metadata": {
    "collapsed": true
   },
   "outputs": [],
   "source": [
    "class Bowl(object):\n",
    "    def __init__(self):\n",
    "        self.scoops = []\n",
    "        \n",
    "    def add_scoops(self, *args):\n",
    "        self.scoops += args\n",
    "        \n",
    "    def flavors(self):\n",
    "        flavors = []\n",
    "        for scoop in self.scoops:\n",
    "            flavors.append(scoop.flavor)\n",
    "        \n",
    "        return \" \".join(flavors)\n",
    "            "
   ]
  },
  {
   "cell_type": "code",
   "execution_count": 15,
   "metadata": {},
   "outputs": [
    {
     "data": {
      "text/plain": [
       "'Chocolate Vanilla Coffee'"
      ]
     },
     "execution_count": 15,
     "metadata": {},
     "output_type": "execute_result"
    }
   ],
   "source": [
    "b = Bowl()\n",
    "b.add_scoops(s1, s2)\n",
    "b.add_scoops(s3)\n",
    "b.flavors()"
   ]
  },
  {
   "cell_type": "markdown",
   "metadata": {},
   "source": [
    "### (2) Use our existing Person and BankAccount classes.  Make it possible for a person to have one or more bank accounts."
   ]
  },
  {
   "cell_type": "code",
   "execution_count": 16,
   "metadata": {
    "collapsed": true
   },
   "outputs": [],
   "source": [
    "class BankAccount(object):\n",
    "    def __init__(self, transactions):\n",
    "        self.transactions = transactions\n",
    "\n",
    "class Person(object):\n",
    "    def __init__(self):\n",
    "        self.accounts = []\n",
    "\n",
    "    def add_account(self, account):\n",
    "        self.accounts.append(account)\n",
    "    \n",
    "    def all_balances(self):\n",
    "        return [sum(account.transactions) for account in self.accounts]\n",
    "    \n",
    "    def current_total_balance(self):\n",
    "        return sum([sum(account.transactions) for account in self.accounts])\n",
    "     \n",
    "    \n",
    "    def average_transaction_amount(self):\n",
    "        accounts = []\n",
    "        for account in self.accounts:\n",
    "            accounts += account.transactions \n",
    "        avg = sum([abs(t) for t in accounts]) / len(accounts)\n",
    "        \n",
    "        return avg "
   ]
  },
  {
   "cell_type": "code",
   "execution_count": 17,
   "metadata": {
    "collapsed": true
   },
   "outputs": [],
   "source": [
    "ba1 = BankAccount([1000, 1000, -100, -200, 5000])"
   ]
  },
  {
   "cell_type": "code",
   "execution_count": 18,
   "metadata": {
    "collapsed": true
   },
   "outputs": [],
   "source": [
    "ba2 = BankAccount([100, -50, 500, -250])"
   ]
  },
  {
   "cell_type": "code",
   "execution_count": 19,
   "metadata": {},
   "outputs": [],
   "source": [
    "p1 = Person()"
   ]
  },
  {
   "cell_type": "code",
   "execution_count": 20,
   "metadata": {},
   "outputs": [],
   "source": [
    "p1.add_account(ba1)"
   ]
  },
  {
   "cell_type": "code",
   "execution_count": 21,
   "metadata": {},
   "outputs": [
    {
     "data": {
      "text/plain": [
       "1460.0"
      ]
     },
     "execution_count": 21,
     "metadata": {},
     "output_type": "execute_result"
    }
   ],
   "source": [
    "p1.average_transaction_amount()"
   ]
  },
  {
   "cell_type": "code",
   "execution_count": 22,
   "metadata": {
    "collapsed": true
   },
   "outputs": [],
   "source": [
    "p1.add_account(ba2)"
   ]
  },
  {
   "cell_type": "code",
   "execution_count": 23,
   "metadata": {},
   "outputs": [
    {
     "data": {
      "text/plain": [
       "911.1111111111111"
      ]
     },
     "execution_count": 23,
     "metadata": {},
     "output_type": "execute_result"
    }
   ],
   "source": [
    "p1.average_transaction_amount()"
   ]
  },
  {
   "cell_type": "code",
   "execution_count": 24,
   "metadata": {},
   "outputs": [
    {
     "data": {
      "text/plain": [
       "[6700, 300]"
      ]
     },
     "execution_count": 24,
     "metadata": {},
     "output_type": "execute_result"
    }
   ],
   "source": [
    "p1.all_balances()"
   ]
  },
  {
   "cell_type": "code",
   "execution_count": 25,
   "metadata": {},
   "outputs": [
    {
     "data": {
      "text/plain": [
       "[1000, 1000, -100, -200, 5000]"
      ]
     },
     "execution_count": 25,
     "metadata": {},
     "output_type": "execute_result"
    }
   ],
   "source": [
    "ba1.transactions"
   ]
  },
  {
   "cell_type": "code",
   "execution_count": 26,
   "metadata": {},
   "outputs": [
    {
     "data": {
      "text/plain": [
       "[100, -50, 500, -250]"
      ]
     },
     "execution_count": 26,
     "metadata": {},
     "output_type": "execute_result"
    }
   ],
   "source": [
    "ba2.transactions"
   ]
  },
  {
   "cell_type": "code",
   "execution_count": 27,
   "metadata": {},
   "outputs": [
    {
     "data": {
      "text/plain": [
       "7000"
      ]
     },
     "execution_count": 27,
     "metadata": {},
     "output_type": "execute_result"
    }
   ],
   "source": [
    "p1.current_total_balance()"
   ]
  },
  {
   "cell_type": "code",
   "execution_count": 28,
   "metadata": {},
   "outputs": [
    {
     "data": {
      "text/plain": [
       "911.1111111111111"
      ]
     },
     "execution_count": 28,
     "metadata": {},
     "output_type": "execute_result"
    }
   ],
   "source": [
    "p1.average_transaction_amount()"
   ]
  },
  {
   "cell_type": "markdown",
   "metadata": {},
   "source": [
    "## (3) Create a ShoppingCart class.\n"
   ]
  },
  {
   "cell_type": "code",
   "execution_count": 29,
   "metadata": {},
   "outputs": [],
   "source": [
    "class ShoppingCart(object):\n",
    "    def __init__(self):\n",
    "        self.items = {}\n",
    "    \n",
    "    def add(self, name, price_per_unit, quant):\n",
    "        if name in self.items:\n",
    "            self.items[name][1] += quant\n",
    "        else:\n",
    "            self.items[name] = [price_per_unit, quant]\n",
    "    \n",
    "    \n",
    "    def remove(self, name):\n",
    "        if name in self.items:\n",
    "            self.items[name][1] -= 1\n",
    "            if self.items[name][1] == 0:\n",
    "                del self.items[name]\n",
    "        else:\n",
    "            print(\"Item is not in the Shooping Cart\")\n",
    "    \n",
    "    def total(self):\n",
    "        total = sum([ i[0] * i[1] for i in self.items.values()])\n",
    "        return total\n",
    "        "
   ]
  },
  {
   "cell_type": "code",
   "execution_count": 30,
   "metadata": {},
   "outputs": [],
   "source": [
    "sc = ShoppingCart()"
   ]
  },
  {
   "cell_type": "code",
   "execution_count": 31,
   "metadata": {},
   "outputs": [],
   "source": [
    "sc.add('book', 30, 5)\n",
    "sc.add('toothbrush', 3, 4)"
   ]
  },
  {
   "cell_type": "code",
   "execution_count": 32,
   "metadata": {},
   "outputs": [
    {
     "data": {
      "text/plain": [
       "{'book': [30, 5], 'toothbrush': [3, 4]}"
      ]
     },
     "execution_count": 32,
     "metadata": {},
     "output_type": "execute_result"
    }
   ],
   "source": [
    "sc.items"
   ]
  },
  {
   "cell_type": "code",
   "execution_count": 33,
   "metadata": {},
   "outputs": [],
   "source": [
    "sc.add('pen', 10, 2)\n",
    "sc.add('toothbrush', 3, 4)"
   ]
  },
  {
   "cell_type": "code",
   "execution_count": 34,
   "metadata": {},
   "outputs": [
    {
     "data": {
      "text/plain": [
       "{'book': [30, 5], 'pen': [10, 2], 'toothbrush': [3, 8]}"
      ]
     },
     "execution_count": 34,
     "metadata": {},
     "output_type": "execute_result"
    }
   ],
   "source": [
    "sc.items"
   ]
  },
  {
   "cell_type": "code",
   "execution_count": 35,
   "metadata": {},
   "outputs": [
    {
     "data": {
      "text/plain": [
       "194"
      ]
     },
     "execution_count": 35,
     "metadata": {},
     "output_type": "execute_result"
    }
   ],
   "source": [
    "sc.total()"
   ]
  },
  {
   "cell_type": "code",
   "execution_count": 36,
   "metadata": {},
   "outputs": [],
   "source": [
    "sc.remove(\"pen\")"
   ]
  },
  {
   "cell_type": "code",
   "execution_count": 37,
   "metadata": {},
   "outputs": [
    {
     "data": {
      "text/plain": [
       "{'book': [30, 5], 'pen': [10, 1], 'toothbrush': [3, 8]}"
      ]
     },
     "execution_count": 37,
     "metadata": {},
     "output_type": "execute_result"
    }
   ],
   "source": [
    "sc.items"
   ]
  },
  {
   "cell_type": "code",
   "execution_count": 38,
   "metadata": {
    "collapsed": true
   },
   "outputs": [],
   "source": [
    "sc.remove(\"pen\")"
   ]
  },
  {
   "cell_type": "code",
   "execution_count": 39,
   "metadata": {},
   "outputs": [
    {
     "data": {
      "text/plain": [
       "{'book': [30, 5], 'toothbrush': [3, 8]}"
      ]
     },
     "execution_count": 39,
     "metadata": {},
     "output_type": "execute_result"
    }
   ],
   "source": [
    "sc.items"
   ]
  },
  {
   "cell_type": "code",
   "execution_count": null,
   "metadata": {
    "collapsed": true
   },
   "outputs": [],
   "source": []
  }
 ],
 "metadata": {
  "kernelspec": {
   "display_name": "Python 3",
   "language": "python",
   "name": "python3"
  },
  "language_info": {
   "codemirror_mode": {
    "name": "ipython",
    "version": 3
   },
   "file_extension": ".py",
   "mimetype": "text/x-python",
   "name": "python",
   "nbconvert_exporter": "python",
   "pygments_lexer": "ipython3",
   "version": "3.6.3"
  }
 },
 "nbformat": 4,
 "nbformat_minor": 2
}
