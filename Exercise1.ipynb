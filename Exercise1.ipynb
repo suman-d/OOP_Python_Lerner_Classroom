{
 "cells": [
  {
   "cell_type": "code",
   "execution_count": 3,
   "metadata": {},
   "outputs": [],
   "source": [
    "# Scoop Class\n",
    "\n",
    "class Scoop(object):\n",
    "    def __init__(self, flavor):\n",
    "        self.flavour = flavor\n",
    "        \n",
    "s1 = Scoop(\"Chocolate\")\n",
    "s2 = Scoop(\"Vanilla\")\n",
    "s3 = Scoop(\"Coffee\")"
   ]
  },
  {
   "cell_type": "code",
   "execution_count": 4,
   "metadata": {},
   "outputs": [
    {
     "name": "stdout",
     "output_type": "stream",
     "text": [
      "Chocolate\n"
     ]
    }
   ],
   "source": [
    "print(s1.flavour)"
   ]
  },
  {
   "cell_type": "code",
   "execution_count": 5,
   "metadata": {},
   "outputs": [
    {
     "name": "stdout",
     "output_type": "stream",
     "text": [
      "Chocolate\n",
      "Vanilla\n",
      "Coffee\n"
     ]
    }
   ],
   "source": [
    "for one_scoop in [s1, s2, s3]:\n",
    "    print(f'{one_scoop.flavour}')"
   ]
  },
  {
   "cell_type": "code",
   "execution_count": 14,
   "metadata": {
    "collapsed": true
   },
   "outputs": [],
   "source": [
    "# Person Class\n",
    "\n",
    "class Person(object):\n",
    "    def __init__(self, name, email, ph_number):\n",
    "        self.name = name\n",
    "        self.email = email\n",
    "        self.ph_number = ph_number\n",
    "        \n",
    "p1 = Person(\"Suman\", \"suman@suman.com\", \"000-11111\")\n",
    "p2 = Person(\"Rashmi\", \"rashmi@suman.com\", \"000-22222\")\n",
    "p3 = Person(\"Reyaan\", \"reyaan@suman.com\", \"000-33333\")\n",
    "p4 = Person(\"Bimalendu(Daddy)\", \"bimalendu@suman.com\", \"000-44444\")\n",
    "p5 = Person(\"Mira(Mommy)\", \"mira@suman.com\", \"000-55555\")\n",
    "\n",
    "all_persons = [p1, p2, p3, p4, p5]"
   ]
  },
  {
   "cell_type": "code",
   "execution_count": 15,
   "metadata": {},
   "outputs": [
    {
     "name": "stdout",
     "output_type": "stream",
     "text": [
      "Suman, have an email which is suman@suman.com\n",
      "Rashmi, have an email which is rashmi@suman.com\n",
      "Reyaan, have an email which is reyaan@suman.com\n",
      "Bimalendu(Daddy), have an email which is bimalendu@suman.com\n",
      "Mira(Mommy), have an email which is mira@suman.com\n"
     ]
    }
   ],
   "source": [
    "for each_person in all_persons:\n",
    "    print(f\"{each_person.name}, have an email which is {each_person.email}\")"
   ]
  },
  {
   "cell_type": "code",
   "execution_count": 16,
   "metadata": {
    "collapsed": true
   },
   "outputs": [],
   "source": [
    "p2.email = \"reyaan_rocks@reyaan.com\""
   ]
  },
  {
   "cell_type": "code",
   "execution_count": 17,
   "metadata": {},
   "outputs": [
    {
     "name": "stdout",
     "output_type": "stream",
     "text": [
      "Suman, have an email which is suman@suman.com\n",
      "Rashmi, have an email which is reyaan_rocks@reyaan.com\n",
      "Reyaan, have an email which is reyaan@suman.com\n",
      "Bimalendu(Daddy), have an email which is bimalendu@suman.com\n",
      "Mira(Mommy), have an email which is mira@suman.com\n"
     ]
    }
   ],
   "source": [
    "for each_person in all_persons:\n",
    "    print(f\"{each_person.name}, have an email which is {each_person.email}\")"
   ]
  },
  {
   "cell_type": "code",
   "execution_count": 22,
   "metadata": {
    "collapsed": true
   },
   "outputs": [],
   "source": [
    "# Bank Account Class\n",
    "\n",
    "class BankAccount(object):\n",
    "    def __init__(self, transactions):\n",
    "        self.transactions = transactions"
   ]
  },
  {
   "cell_type": "code",
   "execution_count": 23,
   "metadata": {
    "collapsed": true
   },
   "outputs": [],
   "source": [
    "my_account = BankAccount([1000, 1000, -100, -200, 5000])"
   ]
  },
  {
   "cell_type": "code",
   "execution_count": 24,
   "metadata": {
    "collapsed": true
   },
   "outputs": [],
   "source": [
    "my_wifes_account = BankAccount([1000, 1000, 1000, 1000])"
   ]
  },
  {
   "cell_type": "code",
   "execution_count": 44,
   "metadata": {},
   "outputs": [],
   "source": [
    "my_account2 = BankAccount([100, -50, 500, -250])"
   ]
  },
  {
   "cell_type": "code",
   "execution_count": 46,
   "metadata": {},
   "outputs": [
    {
     "name": "stdout",
     "output_type": "stream",
     "text": [
      "****************************************************************************************************\n",
      "Here are the transactions : [1000, 1000, -100, -200, 5000]\n",
      "Total no. of transactions is :  5\n",
      "The average transaction amount is :  1460.0\n",
      "Present balance in the account is :  6700\n",
      "****************************************************************************************************\n",
      "Here are the transactions : [1000, 1000, 1000, 1000]\n",
      "Total no. of transactions is :  4\n",
      "The average transaction amount is :  1000.0\n",
      "Present balance in the account is :  4000\n",
      "****************************************************************************************************\n",
      "Here are the transactions : [100, -50, 500, -250]\n",
      "Total no. of transactions is :  4\n",
      "The average transaction amount is :  225.0\n",
      "Present balance in the account is :  300\n"
     ]
    }
   ],
   "source": [
    "for account in my_account, my_wifes_account, my_account2:\n",
    "    print(\"*\"*100)\n",
    "    print(f\"Here are the transactions : {account.transactions}\")\n",
    "    print(f\"Total no. of transactions is : \", len(account.transactions))\n",
    "    avg = sum([abs(t) for t in account.transactions]) / len(account.transactions)\n",
    "    print(f\"The average transaction amount is : \", avg)\n",
    "    print(f\"Present balance in the account is : \", sum(account.transactions))\n"
   ]
  },
  {
   "cell_type": "code",
   "execution_count": null,
   "metadata": {
    "collapsed": true
   },
   "outputs": [],
   "source": []
  }
 ],
 "metadata": {
  "kernelspec": {
   "display_name": "Python 3",
   "language": "python",
   "name": "python3"
  },
  "language_info": {
   "codemirror_mode": {
    "name": "ipython",
    "version": 3
   },
   "file_extension": ".py",
   "mimetype": "text/x-python",
   "name": "python",
   "nbconvert_exporter": "python",
   "pygments_lexer": "ipython3",
   "version": "3.6.3"
  }
 },
 "nbformat": 4,
 "nbformat_minor": 2
}
